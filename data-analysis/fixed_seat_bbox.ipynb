{
 "cells": [
  {
   "cell_type": "markdown",
   "id": "5c7be263",
   "metadata": {},
   "source": [
    "# 고정된 좌표 출력"
   ]
  },
  {
   "cell_type": "markdown",
   "id": "e27b65e8",
   "metadata": {},
   "source": [
    "- 대충 두들겨 보니깐 굳이 고정된 좌표 구할 경우 굳이 yolo 학습 필요없음 - 넉넉잡고 5분 정도 걸릴 것 같음\n",
    "\n",
    "1. 테스트 영샹을 찍을 환경 설정하고 고정된 좌표를 구하기 위해서 아래와 같은 설정 필요\n",
    "    * views.py -> rgb = stringToRGB(image_url.split(',')[1]) 밑의 코드 전부 주석화\n",
    "    * stringToRGB.py -> image = Image.open(dataBytesIO) 밑의 image.show() return image 추가\n",
    "        * 굳이 image resize할 필요 없을 것 같음\n",
    "2. back, front 실행시키고 image가 나올 때까지 실행한 후 전부 정지\n",
    "3. 띄워진 image를 저장 -> 바로 밑의 코드에서 사용할 예정(경로 설정 잘 해줘야 함)"
   ]
  },
  {
   "cell_type": "code",
   "execution_count": 7,
   "id": "0e220101",
   "metadata": {},
   "outputs": [],
   "source": [
    "from PIL import Image"
   ]
  },
  {
   "cell_type": "code",
   "execution_count": 12,
   "id": "06f7f36e",
   "metadata": {},
   "outputs": [],
   "source": [
    "# 저장된 image을 jpg파일로 바꾸자 -> labelImg을 사용하기 위해서\n",
    "# png -> jpg\n",
    "# labelImg 적용할 경우 박스 좌석 1~12 순서대로 지정 -> 그렇지 않으면 좌석 탐지 이상하게 됨\n",
    "# 같은 폴더 안의 classes.txt 있어야 함\n",
    "\n",
    "im = Image.open('img/testFront.png').convert('RGB')\n",
    "im.save('img/testFront.jpg', 'jpeg')"
   ]
  },
  {
   "cell_type": "code",
   "execution_count": 18,
   "id": "f09d6cdd",
   "metadata": {},
   "outputs": [],
   "source": [
    "image_path = \"img/testBack.jpg\"\n",
    "image = Image.open(image_path)"
   ]
  },
  {
   "cell_type": "code",
   "execution_count": 19,
   "id": "10c1349b",
   "metadata": {},
   "outputs": [
    {
     "data": {
      "text/plain": [
       "[[0.222396, 0.348148, 0.090625, 0.181481],\n",
       " [0.310937, 0.352778, 0.086458, 0.175926],\n",
       " [0.396354, 0.365741, 0.090625, 0.183333],\n",
       " [0.559896, 0.387963, 0.084375, 0.183333],\n",
       " [0.644792, 0.397222, 0.077083, 0.17963],\n",
       " [0.719271, 0.412037, 0.073958, 0.183333],\n",
       " [0.052083, 0.683333, 0.102083, 0.381481],\n",
       " [0.180208, 0.681481, 0.152083, 0.377778],\n",
       " [0.343229, 0.703704, 0.167708, 0.392593],\n",
       " [0.641146, 0.723148, 0.151042, 0.35],\n",
       " [0.78125, 0.731481, 0.129167, 0.340741],\n",
       " [0.901563, 0.737037, 0.109375, 0.318519]]"
      ]
     },
     "execution_count": 19,
     "metadata": {},
     "output_type": "execute_result"
    }
   ],
   "source": [
    "f = open(\"img/testBack.txt\",\"r\")\n",
    "\n",
    "open_bbox = []\n",
    "\n",
    "while True:\n",
    "    line = f.readline()\n",
    "    if not line:\n",
    "        break\n",
    "    open_bbox.append(line.split(' ')[1:])\n",
    "\n",
    "for result in open_bbox:\n",
    "    result[0] = float(result[0])\n",
    "    result[1] = float(result[1])\n",
    "    result[2] = float(result[2])\n",
    "    result[3] = float(result[3])\n",
    "\n",
    "open_bbox # x_center y_center width height"
   ]
  },
  {
   "cell_type": "code",
   "execution_count": 20,
   "id": "75588125",
   "metadata": {},
   "outputs": [
    {
     "data": {
      "text/plain": [
       "[[170.00016, 139.00005000000002, 257.00016, 236.99979000000002],\n",
       " [256.99968, 143.00009999999997, 339.99936, 238.00014],\n",
       " [336.99984, 148.00023, 423.99983999999995, 247.00005],\n",
       " [497.00015999999994, 160.00011, 578.00016, 258.99993],\n",
       " [582.00048, 165.99978, 656.00016, 262.99998000000005],\n",
       " [655.00032, 173.00007, 726.0, 271.99989],\n",
       " [0.9998400000000007, 265.99995, 98.99951999999999, 471.99969],\n",
       " [99.99984, 265.99968, 245.99952000000002, 469.9998],\n",
       " [249.00000000000003, 274.00005, 409.99968, 486.00027],\n",
       " [543.0, 295.99992000000003, 688.00032, 484.99992],\n",
       " [687.99984, 302.99967000000004, 812.00016, 486.99981],\n",
       " [813.00048, 311.99985000000004, 918.00048, 484.00011]]"
      ]
     },
     "execution_count": 20,
     "metadata": {},
     "output_type": "execute_result"
    }
   ],
   "source": [
    "fixed_bbox = [[],[],[],[],[],[],[],[],[],[],[],[]]\n",
    "\n",
    "for i in range(len(fixed_bbox)):\n",
    "    x_min = (open_bbox[i][0]-open_bbox[i][2]/2)*image.size[0]\n",
    "    y_min = (open_bbox[i][1]-open_bbox[i][3]/2)*image.size[1]\n",
    "    x_max = (open_bbox[i][0]+open_bbox[i][2]/2)*image.size[0]\n",
    "    y_max = (open_bbox[i][1]+open_bbox[i][3]/2)*image.size[1]\n",
    "    fixed_bbox[i].append(0 if x_min <0 else x_min)\n",
    "    fixed_bbox[i].append(0 if y_min <0 else y_min)\n",
    "    fixed_bbox[i].append(0 if x_max <0 else x_max)\n",
    "    fixed_bbox[i].append(0 if y_max <0 else y_max)\n",
    "    \n",
    "fixed_bbox\n",
    "\n",
    "# seat_util.py의 seat_bbox 수정\n",
    "# 좌표를 탐지하기 위해 stringToRGB.py -> image.show()는 주석화\n",
    "# views.py -> rgb = stringToRGB(image_url.split(',')[1]) results = seat_detection(rgb) print(results) 앞의 코드까지만 주석화 품\n",
    "# back, front 실행시켜서 초반에 몇 번 감지가 잘 되는지 확인해보자\n",
    "\n",
    "# 감지가 잘되면 좌표를 고정하기 위해 수정했던 코드 전부 원래대로"
   ]
  },
  {
   "cell_type": "code",
   "execution_count": null,
   "id": "a2252649",
   "metadata": {},
   "outputs": [],
   "source": []
  }
 ],
 "metadata": {
  "kernelspec": {
   "display_name": "Python 3 (ipykernel)",
   "language": "python",
   "name": "python3"
  },
  "language_info": {
   "codemirror_mode": {
    "name": "ipython",
    "version": 3
   },
   "file_extension": ".py",
   "mimetype": "text/x-python",
   "name": "python",
   "nbconvert_exporter": "python",
   "pygments_lexer": "ipython3",
   "version": "3.9.13"
  }
 },
 "nbformat": 4,
 "nbformat_minor": 5
}
